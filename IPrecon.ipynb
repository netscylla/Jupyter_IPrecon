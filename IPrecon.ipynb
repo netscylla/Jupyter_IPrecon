{
 "cells": [
  {
   "cell_type": "code",
   "execution_count": 138,
   "id": "compatible-defendant",
   "metadata": {},
   "outputs": [
    {
     "data": {
      "text/html": [
       "<script>jQuery(function() {if (jQuery(\"body.notebook_app\").length == 0) { jQuery(\".input_area\").toggle(); jQuery(\".prompt\").toggle();}});</script>"
      ]
     },
     "metadata": {},
     "output_type": "display_data"
    },
    {
     "data": {
      "text/html": [
       "<button onclick=\"jQuery('.input_area').toggle(); jQuery('.prompt').toggle();\">Toggle code</button>"
      ]
     },
     "metadata": {},
     "output_type": "display_data"
    }
   ],
   "source": [
    "from IPython.display import display, display_html\n",
    "from IPython.display import HTML\n",
    "import IPython.core.display as di\n",
    "\n",
    "# This line will hide code by default when the notebook is exported as HTML\n",
    "di.display_html('<script>jQuery(function() {if (jQuery(\"body.notebook_app\").length == 0) { jQuery(\".input_area\").toggle(); jQuery(\".prompt\").toggle();}});</script>', raw=True)\n",
    "\n",
    "# This line will add a button to toggle visibility of code blocks, for use with the HTML export version\n",
    "di.display_html('''<button onclick=\"jQuery('.input_area').toggle(); jQuery('.prompt').toggle();\">Toggle code</button>''', raw=True)"
   ]
  },
  {
   "cell_type": "code",
   "execution_count": 164,
   "id": "second-instrumentation",
   "metadata": {},
   "outputs": [
    {
     "data": {
      "text/plain": [
       "['Requirement already satisfied: urllib3 in ./.venv/lib/python3.8/site-packages (1.26.3)',\n",
       " 'Requirement already satisfied: json2table in ./.venv/lib/python3.8/site-packages (1.1.5)',\n",
       " 'WARNING: You are using pip version 20.2.3; however, version 21.0.1 is available.',\n",
       " \"You should consider upgrading via the '/private/tmp/IPrecon/.venv/bin/python3 -m pip install --upgrade pip' command.\"]"
      ]
     },
     "execution_count": 164,
     "metadata": {},
     "output_type": "execute_result"
    }
   ],
   "source": [
    "!!pip install urllib3"
   ]
  },
  {
   "cell_type": "code",
   "execution_count": 165,
   "id": "figured-recipient",
   "metadata": {},
   "outputs": [],
   "source": [
    "SHODAN_APIKEY = \"\"\n",
    "SCAMALYTICS_APIKEY = \"\""
   ]
  },
  {
   "cell_type": "code",
   "execution_count": 166,
   "id": "outdoor-portsmouth",
   "metadata": {},
   "outputs": [
    {
     "data": {
      "text/html": [
       "<style>.container { width:100% !important; }</style>"
      ],
      "text/plain": [
       "<IPython.core.display.HTML object>"
      ]
     },
     "metadata": {},
     "output_type": "display_data"
    }
   ],
   "source": [
    "from IPython.core.display import display, HTML\n",
    "display(HTML(\"<style>.container { width:100% !important; }</style>\"))"
   ]
  },
  {
   "cell_type": "code",
   "execution_count": 222,
   "id": "subsequent-cambodia",
   "metadata": {},
   "outputs": [
    {
     "data": {
      "application/vnd.jupyter.widget-view+json": {
       "model_id": "2661a755e4d343b7a09265540b18f96b",
       "version_major": 2,
       "version_minor": 0
      },
      "text/plain": [
       "Text(value='', description='IP Address:', placeholder='<IP Address>')"
      ]
     },
     "metadata": {},
     "output_type": "display_data"
    },
    {
     "data": {
      "application/vnd.jupyter.widget-view+json": {
       "model_id": "1f23086f54f74dbbb825b5c1b9e98d1e",
       "version_major": 2,
       "version_minor": 0
      },
      "text/plain": [
       "Button(description='Run', style=ButtonStyle())"
      ]
     },
     "metadata": {},
     "output_type": "display_data"
    }
   ],
   "source": [
    "from IPython.core.display import display, display_html, HTML\n",
    "from IPython.display import Javascript, display\n",
    "import ipywidgets as widgets\n",
    "\n",
    "IPwidget=widgets.Text(\n",
    "    value='',\n",
    "    placeholder='<IP Address>',\n",
    "    description='IP Address:',\n",
    "    disabled=False\n",
    ")\n",
    "display(IPwidget)\n",
    "\n",
    "def run_all(ev):\n",
    "    display(Javascript('IPython.notebook.execute_cell_range(IPython.notebook.get_selected_index()+1, IPython.notebook.ncells())'))\n",
    "\n",
    "button = widgets.Button(description=\"Run\")\n",
    "button.on_click(run_all)\n",
    "display(button)"
   ]
  },
  {
   "cell_type": "code",
   "execution_count": 221,
   "id": "chronic-florist",
   "metadata": {},
   "outputs": [
    {
     "data": {
      "text/html": [
       "<h1>Risk Score</h1>"
      ],
      "text/plain": [
       "<IPython.core.display.HTML object>"
      ]
     },
     "metadata": {},
     "output_type": "display_data"
    },
    {
     "data": {
      "text/html": [
       "<table>"
      ],
      "text/plain": [
       "<IPython.core.display.HTML object>"
      ]
     },
     "metadata": {},
     "output_type": "display_data"
    },
    {
     "data": {
      "text/html": [
       "<tr bgcolor=green><td><p style=\"color:white\">Risk</p></td><td><p style=\"color:white\">low</p></td><td><p style=\"color:white\">Fraud Score</p></td><td><p style=\"color:white\">0</p></td></tr>"
      ],
      "text/plain": [
       "<IPython.core.display.HTML object>"
      ]
     },
     "metadata": {},
     "output_type": "display_data"
    },
    {
     "data": {
      "text/html": [
       "</table>"
      ],
      "text/plain": [
       "<IPython.core.display.HTML object>"
      ]
     },
     "metadata": {},
     "output_type": "display_data"
    },
    {
     "data": {
      "text/html": [
       "<h1>Shodan</h1>"
      ],
      "text/plain": [
       "<IPython.core.display.HTML object>"
      ]
     },
     "metadata": {},
     "output_type": "display_data"
    },
    {
     "data": {
      "text/html": [
       "<p>No Data Found!</p>"
      ],
      "text/plain": [
       "<IPython.core.display.HTML object>"
      ]
     },
     "metadata": {},
     "output_type": "display_data"
    },
    {
     "data": {
      "text/html": [
       "<h1>URLHaus</h1>"
      ],
      "text/plain": [
       "<IPython.core.display.HTML object>"
      ]
     },
     "metadata": {},
     "output_type": "display_data"
    },
    {
     "data": {
      "text/html": [
       "<table>"
      ],
      "text/plain": [
       "<IPython.core.display.HTML object>"
      ]
     },
     "metadata": {},
     "output_type": "display_data"
    },
    {
     "data": {
      "text/html": [
       "<tr><td>Firstseen</td><td>2021-02-17 13:51:03 UTC</td></tr>"
      ],
      "text/plain": [
       "<IPython.core.display.HTML object>"
      ]
     },
     "metadata": {},
     "output_type": "display_data"
    },
    {
     "data": {
      "text/html": [
       "<tr><td>Urlhaus_reference</td><td>https://urlhaus.abuse.ch/url/1015887/</td></tr>"
      ],
      "text/plain": [
       "<IPython.core.display.HTML object>"
      ]
     },
     "metadata": {},
     "output_type": "display_data"
    },
    {
     "data": {
      "text/html": [
       "<tr><td>URL</td><td>http://177.86.234.13:55661/bin.sh</td></tr>"
      ],
      "text/plain": [
       "<IPython.core.display.HTML object>"
      ]
     },
     "metadata": {},
     "output_type": "display_data"
    },
    {
     "data": {
      "text/html": [
       "<tr><td>Status</td><td>offline</td></tr>"
      ],
      "text/plain": [
       "<IPython.core.display.HTML object>"
      ]
     },
     "metadata": {},
     "output_type": "display_data"
    },
    {
     "data": {
      "text/html": [
       "<tr><td>Threat</td><td>malware_download</td></tr>"
      ],
      "text/plain": [
       "<IPython.core.display.HTML object>"
      ]
     },
     "metadata": {},
     "output_type": "display_data"
    },
    {
     "data": {
      "text/html": [
       "<tr><td>Tags</td><td>['32-bit', 'arm', 'elf']</td></tr>"
      ],
      "text/plain": [
       "<IPython.core.display.HTML object>"
      ]
     },
     "metadata": {},
     "output_type": "display_data"
    },
    {
     "data": {
      "text/html": [
       "</table>"
      ],
      "text/plain": [
       "<IPython.core.display.HTML object>"
      ]
     },
     "metadata": {},
     "output_type": "display_data"
    }
   ],
   "source": [
    "from urllib.request import urlopen\n",
    "from urllib.request import Request\n",
    "import urllib3\n",
    "import json\n",
    "import socket\n",
    "\n",
    "\n",
    "http = urllib3.PoolManager()\n",
    "\n",
    "INPUT_IP=IPwidget.value\n",
    "\n",
    "try:\n",
    "  socket.inet_aton(INPUT_IP)\n",
    "    # legal\n",
    "  url = f\"https://api12.scamalytics.com/netscylla?ip={INPUT_IP}&key={SCAMALYTICS_APIKEY}\"\n",
    "  r = http.request(\n",
    "      'GET',\n",
    "      url\n",
    "  )\n",
    "  data=json.loads(r.data.decode('utf-8'))\n",
    "  if(data['risk']==\"low\"):\n",
    "      row_col=\"green\"\n",
    "  if(data['risk']==\"medium\"):\n",
    "      row_col=\"orange\"\n",
    "  if(data['risk']==\"high\"):   \n",
    "      row_col=\"red\"\n",
    "  display(HTML(\"<h1>Risk Score</h1>\"))\n",
    "  display(HTML(\"<table>\"))\n",
    "  display(HTML(\"<tr bgcolor=\"+row_col+\"><td><p style=\\\"color:white\\\">Risk</p></td><td><p style=\\\"color:white\\\">\"+str(data['risk'])+\"</p></td><td><p style=\\\"color:white\\\">Fraud Score</p></td><td><p style=\\\"color:white\\\">\"+str(data['score'])+\"</p></td></tr>\"))\n",
    "  display(HTML(\"</table>\"))\n",
    "\n",
    "  url = f\"https://api.shodan.io/shodan/host/{INPUT_IP}?key={SHODAN_APIKEY}\"\n",
    "  r = http.request(\n",
    "      'GET',\n",
    "      url\n",
    "  )\n",
    "\n",
    "  display(HTML(\"<h1>Shodan</h1>\"))\n",
    "\n",
    "  data=json.loads(r.data.decode('utf-8'))\n",
    "  if (len(data) < 25):\n",
    "    display(HTML(\"<p>No Data Found!</p>\"))\n",
    "  else:\n",
    "    display(HTML(\"<table>\"))\n",
    "    display(HTML(\"<tr><td>ASN</td><td>\"+str(data['asn'])+\"</td></tr>\"))\n",
    "    display(HTML(\"<tr><td>IP</td><td>\"+str(data['ip_str'])+\"</td></tr>\"))\n",
    "    display(HTML(\"<tr><td>ISP</td><td>\"+str(data['isp'])+\"</td></tr>\"))\n",
    "    display(HTML(\"<tr><td>City</td><td>\"+data['city']+\", \"+data['region_code']+\", \"+data['country_code']+\"</td></tr>\"))\n",
    "    display(HTML(\"<tr><td>Long+Lat</td><td>\"+str(data['longitude'])+\", \"+str(data['latitude'])+\"</td></tr>\"))\n",
    "    display(HTML(\"<tr><td>IP</td><td>\"+str(data['country_name'])+\"</td></tr>\"))\n",
    "    display(HTML(\"<tr><td>Hostnames</td><td>\"+str(data['hostnames'])+\"</td></tr>\"))\n",
    "    display(HTML(\"<tr><td>TCP Ports</td><td>\"+str(data['ports'])+\"</td></tr>\"))\n",
    "    for i in range(len(data['ports'])):\n",
    "      display(HTML(\"<tr><td>\"+str(data['data'][i]['port'])+\"</td><td>\"+data['data'][i]['product']+\"/\"+str(data['data'][i]['version'])+\"</td></tr>\"))\n",
    "    display(HTML(\"</table>\"))\n",
    "    \n",
    "  display(HTML(\"<h1>URLHaus</h1>\"))  \n",
    "  #https://urlhaus-api.abuse.ch/v1/host/\n",
    "  url = \"https://urlhaus-api.abuse.ch/v1/host/\"\n",
    "  r = http.request(\n",
    "      'POST',\n",
    "      url,\n",
    "      fields={'host': INPUT_IP} \n",
    "  )\n",
    "  data=json.loads(r.data.decode('utf-8'))\n",
    "  \n",
    "  display(HTML(\"<table>\"))\n",
    "  display(HTML(\"<tr><td>Firstseen</td><td>\"+str(data['firstseen'])+\"</td></tr>\"))\n",
    "  for i in range(len(data['urls'])):  \n",
    "    display(HTML(\"<tr><td>Urlhaus_reference</td><td>\"+str(data['urls'][i]['urlhaus_reference'])+\"</td></tr>\"))\n",
    "    display(HTML(\"<tr><td>URL</td><td>\"+str(data['urls'][i]['url'])+\"</td></tr>\"))\n",
    "    display(HTML(\"<tr><td>Status</td><td>\"+str(data['urls'][i]['url_status'])+\"</td></tr>\")) \n",
    "    display(HTML(\"<tr><td>Threat</td><td>\"+str(data['urls'][i]['threat'])+\"</td></tr>\"))\n",
    "    display(HTML(\"<tr><td>Tags</td><td>\"+str(data['urls'][i]['tags'])+\"</td></tr>\"))  \n",
    "  display(HTML(\"</table>\"))\n",
    "except socket.error:\n",
    "  display(HTML(\"Not a valid IP\"))\n"
   ]
  },
  {
   "cell_type": "code",
   "execution_count": null,
   "id": "lyric-tennessee",
   "metadata": {},
   "outputs": [],
   "source": []
  }
 ],
 "metadata": {
  "kernelspec": {
   "display_name": "Python 3",
   "language": "python",
   "name": "python3"
  },
  "language_info": {
   "codemirror_mode": {
    "name": "ipython",
    "version": 3
   },
   "file_extension": ".py",
   "mimetype": "text/x-python",
   "name": "python",
   "nbconvert_exporter": "python",
   "pygments_lexer": "ipython3",
   "version": "3.8.7"
  }
 },
 "nbformat": 4,
 "nbformat_minor": 5
}
