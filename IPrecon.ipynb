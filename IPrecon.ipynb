{
 "cells": [
  {
   "cell_type": "code",
   "execution_count": 258,
   "id": "heavy-palace",
   "metadata": {},
   "outputs": [
    {
     "data": {
      "text/html": [
       "<script>jQuery(function() {if (jQuery(\"body.notebook_app\").length == 0) { jQuery(\".input_area\").toggle(); jQuery(\".prompt\").toggle();}});</script>"
      ]
     },
     "metadata": {},
     "output_type": "display_data"
    },
    {
     "data": {
      "text/html": [
       "<button onclick=\"jQuery('.input_area').toggle(); jQuery('.prompt').toggle();\">Toggle code</button>"
      ]
     },
     "metadata": {},
     "output_type": "display_data"
    }
   ],
   "source": [
    "from IPython.display import display, display_html\n",
    "from IPython.display import HTML\n",
    "import IPython.core.display as di\n",
    "\n",
    "# This line will hide code by default when the notebook is exported as HTML\n",
    "di.display_html('<script>jQuery(function() {if (jQuery(\"body.notebook_app\").length == 0) { jQuery(\".input_area\").toggle(); jQuery(\".prompt\").toggle();}});</script>', raw=True)\n",
    "\n",
    "# This line will add a button to toggle visibility of code blocks, for use with the HTML export version\n",
    "di.display_html('''<button onclick=\"jQuery('.input_area').toggle(); jQuery('.prompt').toggle();\">Toggle code</button>''', raw=True)"
   ]
  },
  {
   "cell_type": "code",
   "execution_count": 254,
   "id": "champion-solid",
   "metadata": {},
   "outputs": [
    {
     "data": {
      "text/plain": [
       "['Requirement already satisfied: urllib3 in ./.venv/lib/python3.8/site-packages (1.26.3)',\n",
       " 'WARNING: You are using pip version 20.2.3; however, version 21.0.1 is available.',\n",
       " \"You should consider upgrading via the '/private/tmp/IPrecon/.venv/bin/python3 -m pip install --upgrade pip' command.\"]"
      ]
     },
     "execution_count": 254,
     "metadata": {},
     "output_type": "execute_result"
    }
   ],
   "source": [
    "!!pip install urllib3"
   ]
  },
  {
   "cell_type": "code",
   "execution_count": 264,
   "id": "selective-yesterday",
   "metadata": {},
   "outputs": [],
   "source": [
    "SHODAN_APIKEY = \"\"\n",
    "SCAMALYTICS_APIKEY = \"\"\n",
    "ABUSEIPDB_APIKEY = \"\""
   ]
  },
  {
   "cell_type": "code",
   "execution_count": 260,
   "id": "normal-duncan",
   "metadata": {},
   "outputs": [
    {
     "data": {
      "text/html": [
       "<style>.container { width:100% !important; }</style>"
      ],
      "text/plain": [
       "<IPython.core.display.HTML object>"
      ]
     },
     "metadata": {},
     "output_type": "display_data"
    }
   ],
   "source": [
    "from IPython.core.display import display, HTML\n",
    "display(HTML(\"<style>.container { width:100% !important; }</style>\"))"
   ]
  },
  {
   "cell_type": "code",
   "execution_count": 261,
   "id": "absolute-burlington",
   "metadata": {},
   "outputs": [
    {
     "data": {
      "application/vnd.jupyter.widget-view+json": {
       "model_id": "ee2299e8b51a4dbeb96d1f74f4e175ef",
       "version_major": 2,
       "version_minor": 0
      },
      "text/plain": [
       "Text(value='', description='IP Address:', placeholder='<IP Address>')"
      ]
     },
     "metadata": {},
     "output_type": "display_data"
    },
    {
     "data": {
      "application/vnd.jupyter.widget-view+json": {
       "model_id": "bc877e3f23e64fb8a84cea61f544c558",
       "version_major": 2,
       "version_minor": 0
      },
      "text/plain": [
       "Button(description='Run', style=ButtonStyle())"
      ]
     },
     "metadata": {},
     "output_type": "display_data"
    },
    {
     "data": {
      "application/javascript": [
       "IPython.notebook.execute_cell_range(IPython.notebook.get_selected_index()+1, IPython.notebook.ncells())"
      ],
      "text/plain": [
       "<IPython.core.display.Javascript object>"
      ]
     },
     "metadata": {},
     "output_type": "display_data"
    },
    {
     "data": {
      "application/javascript": [
       "IPython.notebook.execute_cell_range(IPython.notebook.get_selected_index()+1, IPython.notebook.ncells())"
      ],
      "text/plain": [
       "<IPython.core.display.Javascript object>"
      ]
     },
     "metadata": {},
     "output_type": "display_data"
    },
    {
     "data": {
      "application/javascript": [
       "IPython.notebook.execute_cell_range(IPython.notebook.get_selected_index()+1, IPython.notebook.ncells())"
      ],
      "text/plain": [
       "<IPython.core.display.Javascript object>"
      ]
     },
     "metadata": {},
     "output_type": "display_data"
    },
    {
     "data": {
      "application/javascript": [
       "IPython.notebook.execute_cell_range(IPython.notebook.get_selected_index()+1, IPython.notebook.ncells())"
      ],
      "text/plain": [
       "<IPython.core.display.Javascript object>"
      ]
     },
     "metadata": {},
     "output_type": "display_data"
    }
   ],
   "source": [
    "from IPython.core.display import display, display_html, HTML\n",
    "from IPython.display import Javascript, display\n",
    "import ipywidgets as widgets\n",
    "\n",
    "IPwidget=widgets.Text(\n",
    "    value='',\n",
    "    placeholder='<IP Address>',\n",
    "    description='IP Address:',\n",
    "    disabled=False\n",
    ")\n",
    "display(IPwidget)\n",
    "\n",
    "def run_all(ev):\n",
    "    display(Javascript('IPython.notebook.execute_cell_range(IPython.notebook.get_selected_index()+1, IPython.notebook.ncells())'))\n",
    "\n",
    "button = widgets.Button(description=\"Run\")\n",
    "button.on_click(run_all)\n",
    "display(button)"
   ]
  },
  {
   "cell_type": "code",
   "execution_count": 279,
   "id": "bound-stocks",
   "metadata": {},
   "outputs": [
    {
     "name": "stdout",
     "output_type": "stream",
     "text": [
      "b'{\"status\":\"ok\",\"mode\":\"live\",\"ip\":\"195.58.38.73\",\"score\":\"100\",\"risk\":\"very high\",\"url\":\"https:\\\\/\\\\/scamalytics.com\\\\/ip\\\\/195.58.38.73\",\"credits\":{\"used\":87,\"remaining\":4913},\"exec\":\"3.08 ms\"}'\n"
     ]
    },
    {
     "data": {
      "text/html": [
       "<h1>ActionFraud Score</h1>"
      ],
      "text/plain": [
       "<IPython.core.display.HTML object>"
      ]
     },
     "metadata": {},
     "output_type": "display_data"
    },
    {
     "data": {
      "text/html": [
       "<table>"
      ],
      "text/plain": [
       "<IPython.core.display.HTML object>"
      ]
     },
     "metadata": {},
     "output_type": "display_data"
    },
    {
     "data": {
      "text/html": [
       "<tr bgcolor=purple><td><p style=\"color:white\">Risk</p></td><td><p style=\"color:white\">very high</p></td><td><p style=\"color:white\">Fraud Score</p></td><td><p style=\"color:white\">100</p></td></tr>"
      ],
      "text/plain": [
       "<IPython.core.display.HTML object>"
      ]
     },
     "metadata": {},
     "output_type": "display_data"
    },
    {
     "data": {
      "text/html": [
       "</table>"
      ],
      "text/plain": [
       "<IPython.core.display.HTML object>"
      ]
     },
     "metadata": {},
     "output_type": "display_data"
    },
    {
     "data": {
      "text/html": [
       "<h1>AbuseIPDB Score</h1>"
      ],
      "text/plain": [
       "<IPython.core.display.HTML object>"
      ]
     },
     "metadata": {},
     "output_type": "display_data"
    },
    {
     "data": {
      "text/html": [
       "<table>"
      ],
      "text/plain": [
       "<IPython.core.display.HTML object>"
      ]
     },
     "metadata": {},
     "output_type": "display_data"
    },
    {
     "data": {
      "text/html": [
       "<tr bgcolor=green><td><p style=\"color:white\">Risk</p></td><td><p style=\"color:white\">Low</p></td><td><p style=\"color:white\">Score</p></td><td><p style=\"color:white\">0</p></td></tr>"
      ],
      "text/plain": [
       "<IPython.core.display.HTML object>"
      ]
     },
     "metadata": {},
     "output_type": "display_data"
    },
    {
     "data": {
      "text/html": [
       "</table>"
      ],
      "text/plain": [
       "<IPython.core.display.HTML object>"
      ]
     },
     "metadata": {},
     "output_type": "display_data"
    },
    {
     "data": {
      "text/html": [
       "<h1>Shodan</h1>"
      ],
      "text/plain": [
       "<IPython.core.display.HTML object>"
      ]
     },
     "metadata": {},
     "output_type": "display_data"
    },
    {
     "data": {
      "text/html": [
       "<p>No Data Found!</p>"
      ],
      "text/plain": [
       "<IPython.core.display.HTML object>"
      ]
     },
     "metadata": {},
     "output_type": "display_data"
    },
    {
     "data": {
      "text/html": [
       "<h1>URLHaus</h1>"
      ],
      "text/plain": [
       "<IPython.core.display.HTML object>"
      ]
     },
     "metadata": {},
     "output_type": "display_data"
    },
    {
     "data": {
      "text/html": [
       "<p>No Data Found!</p>"
      ],
      "text/plain": [
       "<IPython.core.display.HTML object>"
      ]
     },
     "metadata": {},
     "output_type": "display_data"
    },
    {
     "data": {
      "text/html": [
       "<h1>Pulsedive</h1>"
      ],
      "text/plain": [
       "<IPython.core.display.HTML object>"
      ]
     },
     "metadata": {},
     "output_type": "display_data"
    },
    {
     "name": "stdout",
     "output_type": "stream",
     "text": [
      "Response not ready. Sleeping for 3 seconds..\n"
     ]
    },
    {
     "data": {
      "text/html": [
       "<table>"
      ],
      "text/plain": [
       "<IPython.core.display.HTML object>"
      ]
     },
     "metadata": {},
     "output_type": "display_data"
    },
    {
     "data": {
      "text/html": [
       "<tr><td>umbrella_rank</td><td>None</td></tr>"
      ],
      "text/plain": [
       "<IPython.core.display.HTML object>"
      ]
     },
     "metadata": {},
     "output_type": "display_data"
    },
    {
     "data": {
      "text/html": [
       "<tr><td>umbrella_domain</td><td>None</td></tr>"
      ],
      "text/plain": [
       "<IPython.core.display.HTML object>"
      ]
     },
     "metadata": {},
     "output_type": "display_data"
    },
    {
     "data": {
      "text/html": [
       "<tr><td>Port</td><td>21/HTTP</td></tr>"
      ],
      "text/plain": [
       "<IPython.core.display.HTML object>"
      ]
     },
     "metadata": {},
     "output_type": "display_data"
    },
    {
     "data": {
      "text/html": [
       "<tr><td>Port</td><td>80/FTP</td></tr>"
      ],
      "text/plain": [
       "<IPython.core.display.HTML object>"
      ]
     },
     "metadata": {},
     "output_type": "display_data"
    },
    {
     "data": {
      "text/html": [
       "<tr><td>Port</td><td>22/SSH</td></tr>"
      ],
      "text/plain": [
       "<IPython.core.display.HTML object>"
      ]
     },
     "metadata": {},
     "output_type": "display_data"
    },
    {
     "data": {
      "text/html": [
       "<tr><td>City</td><td>Düsseldorf,Germany</td></tr>"
      ],
      "text/plain": [
       "<IPython.core.display.HTML object>"
      ]
     },
     "metadata": {},
     "output_type": "display_data"
    },
    {
     "data": {
      "text/html": [
       "<tr><td>ISP</td><td>myLoc managed IT AG</td></tr>"
      ],
      "text/plain": [
       "<IPython.core.display.HTML object>"
      ]
     },
     "metadata": {},
     "output_type": "display_data"
    },
    {
     "data": {
      "text/html": [
       "<tr><td>ASN</td><td>AS24961</td></tr>"
      ],
      "text/plain": [
       "<IPython.core.display.HTML object>"
      ]
     },
     "metadata": {},
     "output_type": "display_data"
    },
    {
     "data": {
      "text/html": [
       "</table>"
      ],
      "text/plain": [
       "<IPython.core.display.HTML object>"
      ]
     },
     "metadata": {},
     "output_type": "display_data"
    }
   ],
   "source": [
    "from urllib.request import urlopen\n",
    "from urllib.request import Request\n",
    "import urllib3\n",
    "import json\n",
    "import socket\n",
    "import time\n",
    "\n",
    "\n",
    "http = urllib3.PoolManager()\n",
    "\n",
    "INPUT_IP=IPwidget.value\n",
    "\n",
    "def run_scamalytics():\n",
    "  url = f\"https://api12.scamalytics.com/netscylla?ip={INPUT_IP}&key={SCAMALYTICS_APIKEY}\"\n",
    "  r = http.request(\n",
    "      'GET',\n",
    "      url\n",
    "  )\n",
    "  \n",
    "  data=json.loads(r.data.decode('utf-8'))\n",
    "  if(data['risk']==\"low\"):\n",
    "      row_col=\"green\"\n",
    "  if(data['risk']==\"medium\"):\n",
    "      row_col=\"orange\"\n",
    "  if(data['risk']==\"high\"):   \n",
    "      row_col=\"red\"\n",
    "  if(data['risk']==\"very high\"):   \n",
    "      row_col=\"purple\"\n",
    "  display(HTML(\"<h1>ActionFraud Score</h1>\"))\n",
    "  display(HTML(\"<table>\"))\n",
    "  display(HTML(\"<tr bgcolor=\"+row_col+\"><td><p style=\\\"color:white\\\">Risk</p></td><td><p style=\\\"color:white\\\">\"+str(data['risk'])+\"</p></td><td><p style=\\\"color:white\\\">Fraud Score</p></td><td><p style=\\\"color:white\\\">\"+str(data['score'])+\"</p></td></tr>\"))\n",
    "  display(HTML(\"</table>\"))\n",
    "    \n",
    "def run_shodan():\n",
    "  url = f\"https://api.shodan.io/shodan/host/{INPUT_IP}?key={SHODAN_APIKEY}\"\n",
    "  r = http.request(\n",
    "      'GET',\n",
    "      url\n",
    "  )\n",
    "\n",
    "  display(HTML(\"<h1>Shodan</h1>\"))\n",
    "\n",
    "  data=json.loads(r.data.decode('utf-8'))\n",
    "  if (len(data) < 25):\n",
    "    display(HTML(\"<p>No Data Found!</p>\"))\n",
    "  else:\n",
    "    display(HTML(\"<table>\"))\n",
    "    display(HTML(\"<tr><td>ASN</td><td>\"+str(data['asn'])+\"</td></tr>\"))\n",
    "    display(HTML(\"<tr><td>IP</td><td>\"+str(data['ip_str'])+\"</td></tr>\"))\n",
    "    display(HTML(\"<tr><td>ISP</td><td>\"+str(data['isp'])+\"</td></tr>\"))\n",
    "    display(HTML(\"<tr><td>City</td><td>\"+data['city']+\", \"+data['region_code']+\", \"+data['country_code']+\"</td></tr>\"))\n",
    "    display(HTML(\"<tr><td>Long+Lat</td><td>\"+str(data['longitude'])+\", \"+str(data['latitude'])+\"</td></tr>\"))\n",
    "    display(HTML(\"<tr><td>IP</td><td>\"+str(data['country_name'])+\"</td></tr>\"))\n",
    "    display(HTML(\"<tr><td>Hostnames</td><td>\"+str(data['hostnames'])+\"</td></tr>\"))\n",
    "    display(HTML(\"<tr><td>TCP Ports</td><td>\"+str(data['ports'])+\"</td></tr>\"))\n",
    "    for i in range(len(data['ports'])):\n",
    "      display(HTML(\"<tr><td>\"+str(data['data'][i]['port'])+\"</td><td>\"+data['data'][i]['product']+\"/\"+str(data['data'][i]['version'])+\"</td></tr>\"))\n",
    "    display(HTML(\"</table>\"))\n",
    "\n",
    "def run_urlhaus(): \n",
    "  display(HTML(\"<h1>URLHaus</h1>\"))  \n",
    "  #https://urlhaus-api.abuse.ch/v1/host/\n",
    "  url = \"https://urlhaus-api.abuse.ch/v1/host/\"\n",
    "  r = http.request(\n",
    "      'POST',\n",
    "      url,\n",
    "      fields={'host': INPUT_IP} \n",
    "  )\n",
    "  data=json.loads(r.data.decode('utf-8'))\n",
    "  if (len(data) < 25):\n",
    "    display(HTML(\"<p>No Data Found!</p>\"))\n",
    "  else:\n",
    "    display(HTML(\"<table>\"))\n",
    "    display(HTML(\"<tr><td>Firstseen</td><td>\"+str(data['firstseen'])+\"</td></tr>\"))\n",
    "    for i in range(len(data['urls'])):  \n",
    "      display(HTML(\"<tr><td>Urlhaus_reference</td><td>\"+str(data['urls'][i]['urlhaus_reference'])+\"</td></tr>\"))\n",
    "      display(HTML(\"<tr><td>URL</td><td>\"+str(data['urls'][i]['url'])+\"</td></tr>\"))\n",
    "      display(HTML(\"<tr><td>Status</td><td>\"+str(data['urls'][i]['url_status'])+\"</td></tr>\")) \n",
    "      display(HTML(\"<tr><td>Threat</td><td>\"+str(data['urls'][i]['threat'])+\"</td></tr>\"))\n",
    "      display(HTML(\"<tr><td>Tags</td><td>\"+str(data['urls'][i]['tags'])+\"</td></tr>\"))  \n",
    "    display(HTML(\"</table>\"))\n",
    "\n",
    "def run_pulsedive():\n",
    "  #pulsedive  \n",
    "  display(HTML(\"<h1>Pulsedive</h1>\"))  \n",
    "  #https://urlhaus-api.abuse.ch/v1/host/\n",
    "  url = \"https://pulsedive.com/api/analyze.php\"\n",
    "  r = http.request(\n",
    "      'POST',\n",
    "      url,\n",
    "      fields={'value': INPUT_IP, 'probe':1, 'pretty' : 1} \n",
    "  )\n",
    "  data=json.loads(r.data.decode('utf-8'))\n",
    "  data2=\"processing\"\n",
    "  while(data2==\"processing\"): \n",
    "    print(\"Response not ready. Sleeping for 3 seconds..\")\n",
    "    time.sleep(3)\n",
    "    r = http.request(\n",
    "      'POST',\n",
    "      \"https://pulsedive.com/api/analyze.php?qid=\"+str(data['qid'])+\"&pretty=1\")\n",
    "    data=json.loads(r.data.decode('utf-8'))  \n",
    "    data2=data['status']\n",
    "  #print(data)\n",
    "\n",
    "  display(HTML(\"<table>\"))\n",
    "  try:  \n",
    "    display(HTML(\"<tr><td>umbrella_rank</td><td>\"+str(data['data']['umbrella_rank'])+\"</td></tr>\"))\n",
    "    display(HTML(\"<tr><td>umbrella_domain</td><td>\"+str(data['data']['umbrella_domain'])+\"</td></tr>\"))\n",
    "  except:\n",
    "    display(HTML(\"<tr><td>umbrella</td><td>No umbrella data!</td></tr>\"))\n",
    "  try:  \n",
    "    for i in range(len(data['data']['attributes']['port'])):\n",
    "      display(HTML(\"<tr><td>Port</td><td>\"+str(data['data']['attributes']['port'][i])+\"/\"+str(data['data']['attributes']['protocol'][i])+\"</td></tr>\"))\n",
    "  except:\n",
    "    display(HTML(\"<tr><td>Port</td><td>No port data!</td></tr>\"))\n",
    "  try:  \n",
    "    for i in range(len(data['data']['properties']['dns'])):\n",
    "      display(HTML(\"<tr><td>DNS PTR</td><td>\"+str(data['data']['properties']['dns']['PTR'])+\"</td></tr>\"))\n",
    "  except:\n",
    "    display(HTML(\"<tr><td>DNS</td><td>No DNS data!</td></tr>\"))\n",
    "  try:\n",
    "    display(HTML(\"<tr><td>City</td><td>\"+str(data['data']['properties']['geo']['city'])+\",\"+str(data['data']['properties']['geo']['country'])+\"</td></tr>\"))\n",
    "  except:\n",
    "    display(HTML(\"<tr><td>DNS</td><td>No City data!</td></tr>\"))\n",
    "  display(HTML(\"<tr><td>ISP</td><td>\"+str(data['data']['properties']['geo']['isp'])+\"</td></tr>\"))\n",
    "  display(HTML(\"<tr><td>ASN</td><td>\"+str(data['data']['properties']['geo']['asn'])+\"</td></tr>\"))\n",
    "  display(HTML(\"</table>\"))\n",
    "\n",
    "def run_abuseipdb():\n",
    "  url = f\"https://api.abuseipdb.com/api/v2/check?ipAddress={INPUT_IP}\"\n",
    "  r = http.request(\n",
    "      'GET',\n",
    "      url,\n",
    "      headers={'Key': ABUSEIPDB_APIKEY} \n",
    "  )\n",
    "\n",
    "  ipdb_rating=\"\"\n",
    "  data=json.loads(r.data.decode('utf-8')) \n",
    "  if(data['data']['abuseConfidenceScore']<25):\n",
    "      row_col=\"green\"\n",
    "      ipdb_rating=\"Low\"\n",
    "  if(data['data']['abuseConfidenceScore']>=25 and data['data']['abuseConfidenceScore']<70):\n",
    "      row_col=\"orange\"\n",
    "      ipdb_rating=\"Medium\"\n",
    "  if(data['data']['abuseConfidenceScore']>=70):   \n",
    "      row_col=\"red\"\n",
    "      ipdb_rating=\"High\"\n",
    "  display(HTML(\"<h1>AbuseIPDB Score</h1>\"))\n",
    "  display(HTML(\"<table>\"))\n",
    "  display(HTML(\"<tr bgcolor=\"+row_col+\"><td><p style=\\\"color:white\\\">Risk</p></td><td><p style=\\\"color:white\\\">\"+ipdb_rating+\"</p></td><td><p style=\\\"color:white\\\">Score</p></td><td><p style=\\\"color:white\\\">\"+str(data['data']['abuseConfidenceScore'])+\"</p></td></tr>\"))\n",
    "  display(HTML(\"</table>\"))   \n",
    "    \n",
    "try:\n",
    "  socket.inet_aton(INPUT_IP)\n",
    "  if (SCAMALYTICS_APIKEY != \"\"):  \n",
    "    run_scamalytics()\n",
    "  if (ABUSEIPDB_APIKEY != \"\"):\n",
    "    run_abuseipdb()\n",
    "  if (SHODAN_APIKEY != \"\"):\n",
    "    run_shodan()\n",
    "    \n",
    "  run_urlhaus()\n",
    "  run_pulsedive()\n",
    "\n",
    "\n",
    "except socket.error:\n",
    "  display(HTML(\"Not a valid IP\"))\n"
   ]
  }
 ],
 "metadata": {
  "kernelspec": {
   "display_name": "Python 3",
   "language": "python",
   "name": "python3"
  },
  "language_info": {
   "codemirror_mode": {
    "name": "ipython",
    "version": 3
   },
   "file_extension": ".py",
   "mimetype": "text/x-python",
   "name": "python",
   "nbconvert_exporter": "python",
   "pygments_lexer": "ipython3",
   "version": "3.8.7"
  }
 },
 "nbformat": 4,
 "nbformat_minor": 5
}
